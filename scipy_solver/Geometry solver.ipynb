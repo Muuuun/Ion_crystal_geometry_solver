{
 "cells": [
  {
   "cell_type": "code",
   "execution_count": 65,
   "metadata": {},
   "outputs": [],
   "source": [
    "import numpy as np\n",
    "import scipy.constants as sc\n",
    "import matplotlib.pyplot as plt\n",
    "from scipy.optimize import minimize\n",
    "import scipy.optimize as optimize\n",
    "import random"
   ]
  },
  {
   "cell_type": "markdown",
   "metadata": {},
   "source": [
    "## Define the objective function"
   ]
  },
  {
   "cell_type": "code",
   "execution_count": 2,
   "metadata": {},
   "outputs": [],
   "source": [
    "def mutual_potential(x1,x2):\n",
    "    return sc.elementary_charge**2/(4*np.pi*sc.epsilon_0)*1/np.linalg.norm(x1-x2)\n",
    "\n",
    "def array_patition(x,p):\n",
    "    l = int(len(x)/p)\n",
    "    output_array = np.array([[x[p*i+j] for j in np.arange(p)] for i in np.arange(l)])\n",
    "    return output_array"
   ]
  },
  {
   "cell_type": "code",
   "execution_count": 60,
   "metadata": {},
   "outputs": [],
   "source": [
    "def CoulombPotential(x,args):\n",
    "    position_vec = array_patition(x,3)\n",
    "    ion_number = len(position_vec)\n",
    "    potential_vec = np.array([])\n",
    "    for i in np.arange(ion_number):\n",
    "        for j in np.arange(i):\n",
    "            current_potential = mutual_potential(position_vec[i],position_vec[j])\n",
    "            potential_vec = np.append(potential_vec,current_potential)\n",
    "    return sum(potential_vec)\n",
    "\n",
    "def HamonicPotential(x,args):\n",
    "    position_vec = np.transpose(array_patition(x,3))\n",
    "    omega = args['frequency']\n",
    "    potential_vec = np.array([1/2*args['mass']*(omega[i]**2)*(position_vec[i]**2) for i in np.arange(3)])\n",
    "    return sum([sum(potential_vec[i]) for i in np.arange(3)])\n",
    "\n",
    "def CrystalPotential(x,args):\n",
    "    return (CoulombPotential(x,args) + HamonicPotential(x,args))*10**22"
   ]
  },
  {
   "cell_type": "markdown",
   "metadata": {},
   "source": [
    "## Find the Minimizer"
   ]
  },
  {
   "cell_type": "code",
   "execution_count": 106,
   "metadata": {},
   "outputs": [
    {
     "name": "stdout",
     "output_type": "stream",
     "text": [
      "[-1.78656787e-06 -9.60212592e-06 -2.15276201e-09  4.84710357e-06\n",
      " -7.92762911e-06 -3.92821651e-08  2.10634503e-06  9.55100673e-06\n",
      " -2.09032553e-08 -4.63519065e-06  8.03799455e-06 -3.53710831e-08\n",
      "  6.94375568e-06 -1.82341168e-06 -4.64858661e-08  1.24531032e-07\n",
      "  2.72828369e-06 -2.70124176e-08 -7.05061923e-06 -4.69747660e-06\n",
      " -7.56138446e-08 -7.20715436e-06  1.76627137e-06 -5.61444869e-08\n",
      "  6.77206645e-06  4.56055828e-06 -5.69497508e-08 -3.85336600e-07\n",
      " -3.13877746e-06 -1.10232204e-07]\n",
      "\n",
      "Objective function:\n",
      "15.981069696406985\n"
     ]
    }
   ],
   "source": [
    "mass_Yb = 70*sc.m_p+101*sc.m_n\n",
    "trap_frequencies = 2*np.pi*np.array([0.41*10**6,0.37*10**6,1.4*10**6])\n",
    "ionnumber = 10\n",
    "x0=np.array([10**(-9+random.random())*i for i in np.arange(3*ionnumber)])\n",
    "fprime = lambda x,args: optimize.approx_fprime(x, CrystalPotential, 0.01, {'mass':mass_Yb,'frequency':trap_frequencies})\n",
    "crystal_geometry = minimize(CrystalPotential, x0, method='Powell', args={'mass':mass_Yb,'frequency':trap_frequencies})\n",
    "print(crystal_geometry['x']-x0)\n",
    "print(\"\\nObjective function:\")\n",
    "print(CrystalPotential(crystal_geometry['x'],args={'mass':mass_Yb,'frequency':trap_frequencies}))"
   ]
  },
  {
   "cell_type": "code",
   "execution_count": 107,
   "metadata": {},
   "outputs": [
    {
     "data": {
      "text/plain": [
       "array([[-1.78656787e-06, -9.59846695e-06, -4.26082799e-12],\n",
       "       [ 4.85119615e-06, -7.91519916e-06, -3.64680198e-12],\n",
       "       [ 2.15946029e-06,  9.56135507e-06, -1.41987922e-12],\n",
       "       [-4.62473191e-06,  8.05460073e-06, -1.35148228e-12],\n",
       "       [ 7.03543709e-06, -1.78715879e-06, -5.98004715e-12],\n",
       "       [ 1.96150433e-07,  2.86148022e-06,  1.88435145e-12],\n",
       "       [-7.03132623e-06, -4.67473332e-06,  1.01055209e-13],\n",
       "       [-7.18412877e-06,  1.89041048e-06, -1.11278722e-12],\n",
       "       [ 6.96593850e-06,  4.61696335e-06, -1.46681739e-12],\n",
       "       [-3.42681653e-07, -2.94759576e-06,  8.23773256e-13]])"
      ]
     },
     "execution_count": 107,
     "metadata": {},
     "output_type": "execute_result"
    }
   ],
   "source": [
    "np.savetxt(\"/Users/mu_qiao/Documents/OneDrive/Jupyter/Ion crystal geometry solver/Crystal_Geometry.txt\",crystal_geometry['x'])\n",
    "array_patition(crystal_geometry['x'],3)"
   ]
  },
  {
   "cell_type": "code",
   "execution_count": null,
   "metadata": {},
   "outputs": [],
   "source": []
  }
 ],
 "metadata": {
  "kernelspec": {
   "display_name": "Python 3",
   "language": "python",
   "name": "python3"
  },
  "language_info": {
   "codemirror_mode": {
    "name": "ipython",
    "version": 3
   },
   "file_extension": ".py",
   "mimetype": "text/x-python",
   "name": "python",
   "nbconvert_exporter": "python",
   "pygments_lexer": "ipython3",
   "version": "3.7.3"
  }
 },
 "nbformat": 4,
 "nbformat_minor": 2
}
